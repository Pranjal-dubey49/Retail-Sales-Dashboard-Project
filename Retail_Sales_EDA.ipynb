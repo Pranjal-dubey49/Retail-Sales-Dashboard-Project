{
  "nbformat": 4,
  "nbformat_minor": 0,
  "metadata": {
    "colab": {
      "provenance": [],
      "authorship_tag": "ABX9TyNndXihJ3yb5tSZnDQkEJks",
      "include_colab_link": true
    },
    "kernelspec": {
      "name": "python3",
      "display_name": "Python 3"
    },
    "language_info": {
      "name": "python"
    }
  },
  "cells": [
    {
      "cell_type": "markdown",
      "metadata": {
        "id": "view-in-github",
        "colab_type": "text"
      },
      "source": [
        "<a href=\"https://colab.research.google.com/github/Pranjal-dubey49/Retail-Sales-Dashboard-Project/blob/main/Retail_Sales_EDA.ipynb\" target=\"_parent\"><img src=\"https://colab.research.google.com/assets/colab-badge.svg\" alt=\"Open In Colab\"/></a>"
      ]
    },
    {
      "cell_type": "code",
      "execution_count": null,
      "metadata": {
        "id": "m49DdNZfeRoA"
      },
      "outputs": [],
      "source": [
        "# 📦 Import required libraries\n",
        "import pandas as pd\n",
        "import matplotlib.pyplot as plt\n",
        "import seaborn as sns\n",
        "\n",
        "# 🔍 Load dataset\n",
        "df = pd.read_csv('SampleSuperstore.csv')\n",
        "\n",
        "# 👀 Preview data\n",
        "df.head()\n",
        "# 📌 Basic Info\n",
        "df.info()\n",
        "df.describe()\n",
        "# 🚫 Check for missing values\n",
        "df.isnull().sum()\n",
        "# 🧹 Check for duplicates\n",
        "df.duplicated().sum()\n",
        "df.drop_duplicates(inplace=True)\n",
        "# 📊 Total Sales and Profit by Category\n",
        "category_sales = df.groupby('Category')[['Sales', 'Profit']].sum().reset_index()\n",
        "\n",
        "plt.figure(figsize=(8,5))\n",
        "sns.barplot(data=category_sales, x='Category', y='Sales', color='skyblue')\n",
        "plt.title(\"Total Sales by Category\")\n",
        "plt.show()\n",
        "\n",
        "plt.figure(figsize=(8,5))\n",
        "sns.barplot(data=category_sales, x='Category', y='Profit', color='lightgreen')\n",
        "plt.title(\"Total Profit by Category\")\n",
        "plt.show()\n",
        "# 🌍 Sales by Region\n",
        "region_sales = df.groupby('Region')[['Sales', 'Profit']].sum().reset_index()\n",
        "\n",
        "plt.figure(figsize=(8,5))\n",
        "sns.barplot(data=region_sales, x='Region', y='Sales', palette='Set2')\n",
        "plt.title(\"Sales by Region\")\n",
        "plt.xticks(rotation=45)\n",
        "plt.show()\n",
        "# 📅 Monthly Sales Trend\n",
        "df['Order Date'] = pd.to_datetime(df['Order Date'])\n",
        "df['Month'] = df['Order Date'].dt.to_period('M')\n",
        "\n",
        "monthly_sales = df.groupby('Month')['Sales'].sum().reset_index()\n",
        "\n",
        "plt.figure(figsize=(12,6))\n",
        "sns.lineplot(data=monthly_sales, x='Month', y='Sales', marker='o')\n",
        "plt.xticks(rotation=45)\n",
        "plt.title(\"Monthly Sales Trend\")\n",
        "plt.show()\n",
        "# 🏆 Top 10 Most Profitable Products\n",
        "top_products = df.groupby('Product Name')['Profit'].sum().sort_values(ascending=False).head(10)\n",
        "\n",
        "plt.figure(figsize=(10,6))\n",
        "top_products.plot(kind='bar', color='orange')\n",
        "plt.title(\"Top 10 Most Profitable Products\")\n",
        "plt.ylabel(\"Profit\")\n",
        "plt.xticks(rotation=75)\n",
        "plt.show()"
      ]
    }
  ]
}